{
 "cells": [
  {
   "attachments": {},
   "cell_type": "markdown",
   "metadata": {},
   "source": [
    "Run Stata in Jupiter Notebook"
   ]
  },
  {
   "attachments": {},
   "cell_type": "markdown",
   "metadata": {},
   "source": [
    "Example\n"
   ]
  },
  {
   "cell_type": "code",
   "execution_count": null,
   "metadata": {},
   "outputs": [],
   "source": [
    "* example\n",
    "display \"Hello, world!\""
   ]
  },
  {
   "cell_type": "code",
   "execution_count": 1,
   "metadata": {},
   "outputs": [
    {
     "name": "stdout",
     "output_type": "stream",
     "text": [
      "(1978 automobile data)\n"
     ]
    }
   ],
   "source": [
    "sysuse auto.dta"
   ]
  },
  {
   "cell_type": "code",
   "execution_count": 2,
   "metadata": {},
   "outputs": [
    {
     "name": "stdout",
     "output_type": "stream",
     "text": [
      "\n",
      "           |                     Headroom (in.)\n",
      "Car origin |       1.5        2.0        2.5        3.0        3.5 |     Total\n",
      "-----------+-------------------------------------------------------+----------\n",
      "  Domestic |         3         10          4          7         13 |        52 \n",
      "   Foreign |         1          3         10          6          2 |        22 \n",
      "-----------+-------------------------------------------------------+----------\n",
      "     Total |         4         13         14         13         15 |        74 \n",
      "\n",
      "\n",
      "           |          Headroom (in.)\n",
      "Car origin |       4.0        4.5        5.0 |     Total\n",
      "-----------+---------------------------------+----------\n",
      "  Domestic |        10          4          1 |        52 \n",
      "   Foreign |         0          0          0 |        22 \n",
      "-----------+---------------------------------+----------\n",
      "     Total |        10          4          1 |        74 \n"
     ]
    }
   ],
   "source": [
    "tabulate foreign headroom"
   ]
  },
  {
   "cell_type": "code",
   "execution_count": 3,
   "metadata": {},
   "outputs": [
    {
     "name": "stdout",
     "output_type": "stream",
     "text": [
      "\n",
      "\n",
      "      Source |       SS           df       MS      Number of obs   =        74\n",
      "-------------+----------------------------------   F(3, 70)        =     52.25\n",
      "       Model |  1689.15372         3   563.05124   Prob > F        =    0.0000\n",
      "    Residual |   754.30574        70  10.7757963   R-squared       =    0.6913\n",
      "-------------+----------------------------------   Adj R-squared   =    0.6781\n",
      "       Total |  2443.45946        73  33.4720474   Root MSE        =    3.2827\n",
      "\n",
      "------------------------------------------------------------------------------\n",
      "         mpg | Coefficient  Std. err.      t    P>|t|     [95% conf. interval]\n",
      "-------------+----------------------------------------------------------------\n",
      "      weight |  -.0165729   .0039692    -4.18   0.000    -.0244892   -.0086567\n",
      "             |\n",
      "    c.weight#|\n",
      "    c.weight |   1.59e-06   6.25e-07     2.55   0.013     3.45e-07    2.84e-06\n",
      "             |\n",
      "     foreign |    -2.2035   1.059246    -2.08   0.041      -4.3161   -.0909002\n",
      "       _cons |   56.53884   6.197383     9.12   0.000     44.17855    68.89913\n",
      "------------------------------------------------------------------------------\n",
      "\n",
      "\n",
      "      Source |       SS           df       MS      Number of obs   =        74\n",
      "-------------+----------------------------------   F(3, 70)        =     52.25\n",
      "       Model |  1689.15372         3   563.05124   Prob > F        =    0.0000\n",
      "    Residual |   754.30574        70  10.7757963   R-squared       =    0.6913\n",
      "-------------+----------------------------------   Adj R-squared   =    0.6781\n",
      "       Total |  2443.45946        73  33.4720474   Root MSE        =    3.2827\n",
      "\n",
      "------------------------------------------------------------------------------\n",
      "         mpg | Coefficient  Std. err.      t    P>|t|                     Beta\n",
      "-------------+----------------------------------------------------------------\n",
      "      weight |  -.0165729   .0039692    -4.18   0.000                -2.226321\n",
      "             |\n",
      "    c.weight#|\n",
      "    c.weight |   1.59e-06   6.25e-07     2.55   0.013                  1.32654\n",
      "             |\n",
      "     foreign |    -2.2035   1.059246    -2.08   0.041                  -.17527\n",
      "       _cons |   56.53884   6.197383     9.12   0.000                        .\n",
      "------------------------------------------------------------------------------\n"
     ]
    }
   ],
   "source": [
    "regress mpg weight c.weight#c.weight foreign\n",
    "regress, beta"
   ]
  }
 ],
 "metadata": {
  "kernelspec": {
   "display_name": "Stata",
   "language": "stata",
   "name": "stata"
  },
  "language_info": {
   "codemirror_mode": "stata",
   "file_extension": ".do",
   "mimetype": "text/x-stata",
   "name": "stata",
   "version": "15.1"
  },
  "orig_nbformat": 4
 },
 "nbformat": 4,
 "nbformat_minor": 2
}
