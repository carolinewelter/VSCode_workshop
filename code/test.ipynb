{
 "cells": [
  {
   "attachments": {},
   "cell_type": "markdown",
   "metadata": {},
   "source": [
    "Run Stata in Jupiter Notebook"
   ]
  },
  {
   "cell_type": "code",
   "execution_count": 4,
   "metadata": {},
   "outputs": [
    {
     "name": "stdout",
     "output_type": "stream",
     "text": [
      "Hello, world!\n"
     ]
    }
   ],
   "source": [
    "display \"Hello, world!\""
   ]
  },
  {
   "cell_type": "code",
   "execution_count": 5,
   "metadata": {},
   "outputs": [
    {
     "name": "stdout",
     "output_type": "stream",
     "text": [
      "(1978 automobile data)\n"
     ]
    }
   ],
   "source": [
    "sysuse auto.dta"
   ]
  },
  {
   "cell_type": "code",
   "execution_count": 6,
   "metadata": {},
   "outputs": [
    {
     "name": "stdout",
     "output_type": "stream",
     "text": [
      "\n",
      "           |                     Headroom (in.)\n",
      "Car origin |       1.5        2.0        2.5        3.0        3.5 |     Total\n",
      "-----------+-------------------------------------------------------+----------\n",
      "  Domestic |         3         10          4          7         13 |        52 \n",
      "   Foreign |         1          3         10          6          2 |        22 \n",
      "-----------+-------------------------------------------------------+----------\n",
      "     Total |         4         13         14         13         15 |        74 \n",
      "\n",
      "\n",
      "           |          Headroom (in.)\n",
      "Car origin |       4.0        4.5        5.0 |     Total\n",
      "-----------+---------------------------------+----------\n",
      "  Domestic |        10          4          1 |        52 \n",
      "   Foreign |         0          0          0 |        22 \n",
      "-----------+---------------------------------+----------\n",
      "     Total |        10          4          1 |        74 \n"
     ]
    }
   ],
   "source": [
    "tabulate foreign headroom"
   ]
  },
  {
   "attachments": {},
   "cell_type": "markdown",
   "metadata": {},
   "source": [
    "Run R in Jupiter Notebook"
   ]
  },
  {
   "attachments": {},
   "cell_type": "markdown",
   "metadata": {},
   "source": [
    "Examples of data"
   ]
  },
  {
   "cell_type": "code",
   "execution_count": 7,
   "metadata": {},
   "outputs": [
    {
     "name": "stdout",
     "output_type": "stream",
     "text": [
      "\n",
      "command library is unrecognized\n"
     ]
    },
    {
     "name": "stderr",
     "output_type": "stream",
     "text": [
      "r(199);\n",
      "r(199);\n"
     ]
    },
    {
     "name": "stdout",
     "output_type": "stream",
     "text": [
      "\n",
      "\n"
     ]
    }
   ],
   "source": [
    "library(tidyverse)\n",
    "library(ggpubr)\n",
    "theme_set(theme_pubr())\n",
    "\n",
    "# Load the package\n",
    "data(\"marketing\", package = \"datarium\")\n",
    "head(marketing, 4)"
   ]
  },
  {
   "attachments": {},
   "cell_type": "markdown",
   "metadata": {},
   "source": [
    "Visualization"
   ]
  },
  {
   "cell_type": "code",
   "execution_count": null,
   "metadata": {},
   "outputs": [],
   "source": [
    "ggplot(marketing, aes(x = youtube, y = sales)) +\n",
    "  geom_point() +\n",
    "  stat_smooth()"
   ]
  },
  {
   "attachments": {},
   "cell_type": "markdown",
   "metadata": {},
   "source": [
    "Regression"
   ]
  },
  {
   "cell_type": "code",
   "execution_count": null,
   "metadata": {},
   "outputs": [],
   "source": [
    "model <- lm(sales ~ youtube, data = marketing)\n",
    "summary(model)\n",
    "\n",
    "ggplot(marketing, aes(youtube, sales)) +\n",
    "  geom_point() +\n",
    "  stat_smooth(method = lm)"
   ]
  }
 ],
 "metadata": {
  "kernelspec": {
   "display_name": "Python 3",
   "language": "python",
   "name": "python3"
  },
  "language_info": {
   "codemirror_mode": "stata",
   "file_extension": ".do",
   "mimetype": "text/x-stata",
   "name": "python",
   "version": "3.10.9"
  },
  "orig_nbformat": 4
 },
 "nbformat": 4,
 "nbformat_minor": 2
}
